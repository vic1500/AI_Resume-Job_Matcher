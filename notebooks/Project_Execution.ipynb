{
 "cells": [
  {
   "cell_type": "code",
   "execution_count": null,
   "id": "a9c2dae6",
   "metadata": {},
   "outputs": [],
   "source": [
    "import pdfplumber\n",
    "from docx import Document\n",
    "import spacy\n",
    "import re"
   ]
  },
  {
   "cell_type": "code",
   "execution_count": 65,
   "id": "0ecf00aa",
   "metadata": {},
   "outputs": [
    {
     "name": "stderr",
     "output_type": "stream",
     "text": [
      "c:\\Users\\Dman\\.conda\\envs\\sklearn_env_3.12\\Lib\\site-packages\\spacy\\util.py:910: UserWarning: [W095] Model 'en_core_web_sm' (3.8.0) was trained with spaCy v3.8.0 and may not be 100% compatible with the current version (3.7.2). If you see errors or degraded performance, download a newer compatible model or retrain your custom model with the current spaCy version. For more details and available updates, run: python -m spacy validate\n",
      "  warnings.warn(warn_msg)\n"
     ]
    }
   ],
   "source": [
    "nlp = spacy.load(\"en_core_web_sm\")"
   ]
  },
  {
   "cell_type": "code",
   "execution_count": 66,
   "id": "e02e236c",
   "metadata": {},
   "outputs": [],
   "source": [
    "pdf_file_path = \"../data/mock_resume.pdf\"\n",
    "docx_file_path = \"../data/mock_job_description.docx\""
   ]
  },
  {
   "cell_type": "code",
   "execution_count": 80,
   "id": "d77219b2",
   "metadata": {},
   "outputs": [],
   "source": [
    "CORE_SKILLS = [\n",
    "    \"python\", \"sql\", \"docker\", \"aws\", \"azure\", \"gcp\", \"machine learning\",\n",
    "    \"nlp\", \"tensorflow\", \"pytorch\", \"scikit learn\", \"pandas\", \"numpy\",\n",
    "    \"javascript\", \"react\", \"nodejs\", \"git\", \"kubernetes\", \"rest api\",\n",
    "    \"docker-compose\", \"linux\", \"bash\", \"spark\", \"data visualization\",\n",
    "    \"tableau\", \"power bi\", \"hadoop\", \"etl\", \"ci/cd\", \"agile\", \"scrum\",\n",
    "    \"jira\", \"confluence\", \"data analysis\", \"data science\", \"deep learning\",\n",
    "    \"computer vision\", \"time series\", \"regression\", \"classification\", \"clustering\",\n",
    "    \"natural language processing\", \"big data\", \"data engineering\", \"data mining\", \"sql server\",\n",
    "    \"postgresql\", \"mysql\", \"mongodb\", \"redis\", \"elasticsearch\", \"html\", \"css\", \"typescript\",\n",
    "    \"vuejs\", \"angular\", \"flask\", \"django\", \"fastapi\", \"graphql\", \"restful api\", \"oauth\",\n",
    "    \"jwt\", \"microservices\", \"serverless\", \"lambda\", \"cloudformation\", \"terraform\", \"devops\",\n",
    "    \"monitoring\", \"logging\", \"prometheus\", \"grafana\", \"kafka\", \"rabbitmq\", \"celery\", \"airflow\",\n",
    "    \"spark\", \"hive\", \"pig\", \"impala\", \"presto\", \"snowflake\", \"redshift\", \"bigquery\", \"databricks\",\n",
    "    \"mlflow\", \"dvc\", \"wandb\", \"neptune\", \"jupyter\", \"jupyterlab\", \"notebooks\", \"visual studio code\", \"pycharm\", \"intellij\", \"eclipse\", \"netbeans\", \"vscode\", \"nltk\", \"spacy\", \"gensim\", \"word2vec\", \"bert\", \"transformers\", \"opencv\", \"pillow\", \"seaborn\", \"matplotlib\", \"plotly\", \"dash\", \"bokeh\", \"streamlit\", \"flask\", \"django\", \"fastapi\", \"rest api\", \"graphql\", \"oauth\", \"jwt\", \"microservices\", \"serverless\", \"lambda\", \"cloudformation\", \"terraform\", \"devops\", \"model deployment\", \"monitoring\", \"logging\", \"r\", \"c\", \"c++\", \"java\", \"scala\", \"go\", \"ruby\", \"php\", \"swift\", \"kotlin\"\n",
    "]"
   ]
  },
  {
   "cell_type": "code",
   "execution_count": 68,
   "id": "d4d04b9d",
   "metadata": {},
   "outputs": [],
   "source": [
    "def extract_text_from_pdf(file_path: str) -> str:\n",
    "    with pdfplumber.open(file_path) as pdf:\n",
    "        text = \"\"\n",
    "        for page in pdf.pages:\n",
    "            text += page.extract_text() + \"\\n\"\n",
    "    return text"
   ]
  },
  {
   "cell_type": "code",
   "execution_count": 69,
   "id": "a8a6c595",
   "metadata": {},
   "outputs": [
    {
     "name": "stdout",
     "output_type": "stream",
     "text": [
      "Jane Doe\n",
      "Email: janedoe@email.com | Phone: +1 555-123-4567 | Location: Lagos, Nigeria\n",
      "LinkedIn: linkedin.com/in/janedoe | GitHub: github.com/janedoe\n",
      "PROFESSIONAL SUMMARY\n",
      "Data-driven professional with strong analytical skills and hands-on experience in Python, data\n",
      "visualization, and machine learning. Passionate about leveraging data insights to solve business\n",
      "problems and improve decision-making.\n",
      "SKILLS\n",
      "- Programming: Python, SQL, R\n",
      "- Data Tools: Pandas, NumPy, Scikit-learn, Matplotlib, Power BI\n",
      "- Machine Learning: Regression, Classification, Clustering\n",
      "- NLP Tools: spaCy, NLTK, Transformers\n",
      "- Web: Flask, FastAPI, HTML/CSS\n",
      "- Version Control: Git, GitHub\n",
      "EXPERIENCE\n",
      "Data Analyst Intern — TechNova Analytics (Jan 2024 – Jul 2024)\n",
      "- Cleaned and analyzed datasets using Python (Pandas, NumPy).\n",
      "- Developed data visualization dashboards in Power BI.\n",
      "- Collaborated with engineers to deploy a model predicting customer churn.\n",
      "Freelance Web Developer (2023 – Present)\n",
      "- Built responsive websites with React and Tailwind CSS.\n",
      "- Integrated REST APIs using FastAPI.\n",
      "- Designed and maintained MySQL databases for small business clients.\n",
      "EDUCATION\n",
      "B.Sc. in Industrial Mathematics (Computer Science Focus)\n",
      "University of Lagos — Expected Graduation: 2026\n",
      "PROJECTS\n",
      "AI Job Prediction App\n",
      "- Built an ML model to predict job categories based on skills using scikit-learn.\n",
      "- Achieved 87% accuracy on test data and deployed the model using Streamlit.\n",
      "Personal Portfolio Website\n",
      "- Created an interactive portfolio using React and Tailwind CSS.\n",
      "- Optimized for SEO and accessibility.\n",
      "CERTIFICATIONS\n",
      "- Google Data Analytics Professional Certificate\n",
      "- Introduction to Machine Learning — Coursera\n",
      "INTERESTS\n",
      "Machine Learning (cid:127) Data Science (cid:127) Web Development (cid:127) Open Source Contributions\n",
      "\n"
     ]
    }
   ],
   "source": [
    "\n",
    "resume_text = extract_text_from_pdf(pdf_file_path)\n",
    "print(resume_text)"
   ]
  },
  {
   "cell_type": "code",
   "execution_count": 70,
   "id": "db436839",
   "metadata": {},
   "outputs": [],
   "source": [
    "def extract_text_from_docx(file_path: str) -> str:\n",
    "    doc = Document(file_path)\n",
    "    paragraph = [para.text for para in doc.paragraphs if para.text and para.text.strip()]\n",
    "    text = \"\\n\".join(paragraph).strip()\n",
    "    return text"
   ]
  },
  {
   "cell_type": "code",
   "execution_count": 71,
   "id": "ad6aea21",
   "metadata": {},
   "outputs": [
    {
     "name": "stdout",
     "output_type": "stream",
     "text": [
      "Job Title: Data Analyst / Junior Machine Learning Engineer\n",
      "Company: InsightWorks Technologies\n",
      "Location: Remote (Lagos, Nigeria preferred)\n",
      "Employment Type: Full-Time\n",
      "About the Role\n",
      "We’re looking for a motivated Data Analyst with a passion for machine learning and data-driven problem-solving. The ideal candidate will analyze large datasets, build predictive models, and communicate insights that drive business decisions.\n",
      "Key Responsibilities\n",
      "- Collect, clean, and preprocess structured and unstructured datasets.\n",
      "- Build and evaluate machine learning models using Python (scikit-learn, pandas, numpy).\n",
      "- Perform exploratory data analysis and visualization with Matplotlib or Power BI.\n",
      "- Collaborate with engineers to integrate ML models into production using FastAPI or Flask.\n",
      "- Present insights to stakeholders through dashboards and reports.\n",
      "Required Skills\n",
      "- Strong proficiency in Python, SQL, and data manipulation libraries (Pandas, NumPy).\n",
      "- Experience with machine learning algorithms (classification, regression).\n",
      "- Familiarity with scikit-learn, spaCy, or NLTK for NLP-related tasks.\n",
      "- Understanding of data visualization tools like Matplotlib, Seaborn, or Power BI.\n",
      "- Basic understanding of REST APIs and model deployment.\n",
      "- Excellent communication and analytical thinking.\n",
      "Preferred Qualifications\n",
      "- Bachelor’s degree in Computer Science, Statistics, or related field.\n",
      "- Experience with transformer-based models or sentence embeddings.\n",
      "- Familiarity with cloud platforms (AWS, GCP, or Azure).\n",
      "- Prior internship or project experience involving predictive analytics.\n",
      "Benefits\n",
      "- Competitive salary and flexible remote work.\n",
      "- Professional development opportunities.\n",
      "- Collaborative and growth-oriented team.\n",
      "How to Apply\n",
      "Send your CV and a short statement about your favorite ML project to:\n",
      "careers@insightworks.ai\n"
     ]
    }
   ],
   "source": [
    "job_description_text = extract_text_from_docx(docx_file_path)\n",
    "print(job_description_text)"
   ]
  },
  {
   "cell_type": "code",
   "execution_count": 72,
   "id": "89633f87",
   "metadata": {},
   "outputs": [],
   "source": [
    "def preprocess_text(text: str) -> str:\n",
    "    doc = nlp(text)\n",
    "    tokens = []\n",
    "\n",
    "    for tok in doc:\n",
    "        if tok.is_stop or tok.is_punct or tok.is_space:\n",
    "            continue\n",
    "        tok_lemma = tok.lemma_.lower()\n",
    "\n",
    "        if len(tok_lemma) <= 1 and not tok_lemma.isalpha():\n",
    "            continue\n",
    "\n",
    "        tokens.append(tok_lemma)\n",
    "\n",
    "    return \" \".join(tokens)"
   ]
  },
  {
   "cell_type": "code",
   "execution_count": 73,
   "id": "898eb50c",
   "metadata": {},
   "outputs": [],
   "source": [
    "resume_text_preprocessed = preprocess_text(resume_text)\n",
    "job_description_text_preprocessed = preprocess_text(job_description_text)"
   ]
  },
  {
   "cell_type": "code",
   "execution_count": 90,
   "id": "8f4de24e",
   "metadata": {},
   "outputs": [],
   "source": [
    "def extract_skills_from_text(text: str, skills: list) -> set:\n",
    "    text = text.lower()\n",
    "    matched_skills = set()\n",
    "\n",
    "    for skill in skills:\n",
    "        pattern = r'\\b' + re.escape(skill.lower()) + r'\\b'\n",
    "        if re.search(pattern, text):\n",
    "            matched_skills.add(skill)\n",
    "    return matched_skills"
   ]
  },
  {
   "cell_type": "code",
   "execution_count": 91,
   "id": "f3020625",
   "metadata": {},
   "outputs": [],
   "source": [
    "resume_text_skills = extract_skills_from_text(resume_text_preprocessed, CORE_SKILLS)\n",
    "job_description_text_skills = extract_skills_from_text(job_description_text_preprocessed, CORE_SKILLS)"
   ]
  },
  {
   "cell_type": "code",
   "execution_count": 75,
   "id": "a333d0ba",
   "metadata": {},
   "outputs": [],
   "source": [
    "def compute_match_info(resume_skills: set, job_skills: set) -> dict:\n",
    "    match_info = dict()\n",
    "    matched_skills = resume_skills.intersection(job_skills)\n",
    "    absent_skills = job_skills.difference(resume_skills)\n",
    "\n",
    "    score = len(matched_skills) / len(job_skills) * 100\n",
    "\n",
    "    match_info['matched_skills'] = list(matched_skills)\n",
    "    match_info['absent_skills'] = list(absent_skills)\n",
    "    match_info['score'] = round(score, 2)\n",
    "\n",
    "    return match_info"
   ]
  },
  {
   "cell_type": "code",
   "execution_count": 92,
   "id": "6b4623c8",
   "metadata": {},
   "outputs": [
    {
     "data": {
      "text/plain": [
       "{'matched_skills': ['machine learning',\n",
       "  'rest api',\n",
       "  'spacy',\n",
       "  'sql',\n",
       "  'regression',\n",
       "  'pandas',\n",
       "  'python',\n",
       "  'matplotlib',\n",
       "  'power bi',\n",
       "  'classification',\n",
       "  'numpy',\n",
       "  'fastapi',\n",
       "  'nltk',\n",
       "  'flask',\n",
       "  'scikit learn',\n",
       "  'nlp'],\n",
       " 'absent_skills': ['azure', 'model deployment', 'gcp', 'seaborn', 'aws'],\n",
       " 'score': 76.19}"
      ]
     },
     "execution_count": 92,
     "metadata": {},
     "output_type": "execute_result"
    }
   ],
   "source": [
    "match_info = compute_match_info(resume_text_skills, job_description_text_skills)\n",
    "match_info"
   ]
  },
  {
   "cell_type": "code",
   "execution_count": 83,
   "id": "a0d9f9c8",
   "metadata": {},
   "outputs": [
    {
     "data": {
      "text/plain": [
       "{'aws',\n",
       " 'azure',\n",
       " 'classification',\n",
       " 'fastapi',\n",
       " 'flask',\n",
       " 'gcp',\n",
       " 'matplotlib',\n",
       " 'nlp',\n",
       " 'nltk',\n",
       " 'numpy',\n",
       " 'pandas',\n",
       " 'python',\n",
       " 'regression',\n",
       " 'seaborn',\n",
       " 'spacy',\n",
       " 'sql'}"
      ]
     },
     "execution_count": 83,
     "metadata": {},
     "output_type": "execute_result"
    }
   ],
   "source": [
    "job_description_text_skills"
   ]
  },
  {
   "cell_type": "code",
   "execution_count": 84,
   "id": "5aaa7427",
   "metadata": {},
   "outputs": [
    {
     "data": {
      "text/plain": [
       "['job',\n",
       " 'title',\n",
       " 'data',\n",
       " 'analyst',\n",
       " 'junior',\n",
       " 'machine',\n",
       " 'learning',\n",
       " 'engineer',\n",
       " 'company',\n",
       " 'insightworks',\n",
       " 'technologies',\n",
       " 'location',\n",
       " 'remote',\n",
       " 'lagos',\n",
       " 'nigeria',\n",
       " 'prefer',\n",
       " 'employment',\n",
       " 'type',\n",
       " 'time',\n",
       " 'role',\n",
       " 'look',\n",
       " 'motivated',\n",
       " 'data',\n",
       " 'analyst',\n",
       " 'passion',\n",
       " 'machine',\n",
       " 'learning',\n",
       " 'data',\n",
       " 'drive',\n",
       " 'problem',\n",
       " 'solving',\n",
       " 'ideal',\n",
       " 'candidate',\n",
       " 'analyze',\n",
       " 'large',\n",
       " 'dataset',\n",
       " 'build',\n",
       " 'predictive',\n",
       " 'model',\n",
       " 'communicate',\n",
       " 'insight',\n",
       " 'drive',\n",
       " 'business',\n",
       " 'decision',\n",
       " 'key',\n",
       " 'responsibility',\n",
       " 'collect',\n",
       " 'clean',\n",
       " 'preprocess',\n",
       " 'structure',\n",
       " 'unstructured',\n",
       " 'dataset',\n",
       " 'build',\n",
       " 'evaluate',\n",
       " 'machine',\n",
       " 'learning',\n",
       " 'model',\n",
       " 'python',\n",
       " 'scikit',\n",
       " 'learn',\n",
       " 'panda',\n",
       " 'numpy',\n",
       " 'perform',\n",
       " 'exploratory',\n",
       " 'datum',\n",
       " 'analysis',\n",
       " 'visualization',\n",
       " 'matplotlib',\n",
       " 'power',\n",
       " 'bi',\n",
       " 'collaborate',\n",
       " 'engineer',\n",
       " 'integrate',\n",
       " 'ml',\n",
       " 'model',\n",
       " 'production',\n",
       " 'fastapi',\n",
       " 'flask',\n",
       " 'present',\n",
       " 'insight',\n",
       " 'stakeholder',\n",
       " 'dashboard',\n",
       " 'report',\n",
       " 'required',\n",
       " 'skills',\n",
       " 'strong',\n",
       " 'proficiency',\n",
       " 'python',\n",
       " 'sql',\n",
       " 'datum',\n",
       " 'manipulation',\n",
       " 'library',\n",
       " 'pandas',\n",
       " 'numpy',\n",
       " 'experience',\n",
       " 'machine',\n",
       " 'learning',\n",
       " 'algorithm',\n",
       " 'classification',\n",
       " 'regression',\n",
       " 'familiarity',\n",
       " 'scikit',\n",
       " 'learn',\n",
       " 'spacy',\n",
       " 'nltk',\n",
       " 'nlp',\n",
       " 'relate',\n",
       " 'task',\n",
       " 'understanding',\n",
       " 'datum',\n",
       " 'visualization',\n",
       " 'tool',\n",
       " 'like',\n",
       " 'matplotlib',\n",
       " 'seaborn',\n",
       " 'power',\n",
       " 'bi',\n",
       " 'basic',\n",
       " 'understanding',\n",
       " 'rest',\n",
       " 'api',\n",
       " 'model',\n",
       " 'deployment',\n",
       " 'excellent',\n",
       " 'communication',\n",
       " 'analytical',\n",
       " 'thinking',\n",
       " 'preferred',\n",
       " 'qualifications',\n",
       " 'bachelor',\n",
       " 'degree',\n",
       " 'computer',\n",
       " 'science',\n",
       " 'statistics',\n",
       " 'related',\n",
       " 'field',\n",
       " 'experience',\n",
       " 'transformer',\n",
       " 'base',\n",
       " 'model',\n",
       " 'sentence',\n",
       " 'embedding',\n",
       " 'familiarity',\n",
       " 'cloud',\n",
       " 'platform',\n",
       " 'aws',\n",
       " 'gcp',\n",
       " 'azure',\n",
       " 'prior',\n",
       " 'internship',\n",
       " 'project',\n",
       " 'experience',\n",
       " 'involve',\n",
       " 'predictive',\n",
       " 'analytic',\n",
       " 'benefit',\n",
       " 'competitive',\n",
       " 'salary',\n",
       " 'flexible',\n",
       " 'remote',\n",
       " 'work',\n",
       " 'professional',\n",
       " 'development',\n",
       " 'opportunity',\n",
       " 'collaborative',\n",
       " 'growth',\n",
       " 'orient',\n",
       " 'team',\n",
       " 'apply',\n",
       " 'send',\n",
       " 'cv',\n",
       " 'short',\n",
       " 'statement',\n",
       " 'favorite',\n",
       " 'ml',\n",
       " 'project',\n",
       " 'careers@insightworks.ai']"
      ]
     },
     "execution_count": 84,
     "metadata": {},
     "output_type": "execute_result"
    }
   ],
   "source": [
    "job_description_text_preprocessed.split()"
   ]
  }
 ],
 "metadata": {
  "kernelspec": {
   "display_name": "sklearn_env_3.12",
   "language": "python",
   "name": "python3"
  },
  "language_info": {
   "codemirror_mode": {
    "name": "ipython",
    "version": 3
   },
   "file_extension": ".py",
   "mimetype": "text/x-python",
   "name": "python",
   "nbconvert_exporter": "python",
   "pygments_lexer": "ipython3",
   "version": "3.12.8"
  }
 },
 "nbformat": 4,
 "nbformat_minor": 5
}
